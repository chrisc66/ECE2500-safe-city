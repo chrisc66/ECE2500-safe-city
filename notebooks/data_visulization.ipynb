{
 "cells": [
  {
   "cell_type": "markdown",
   "metadata": {
    "id": "wcOjL1t1_Hul"
   },
   "source": [
    "# EFRS Dataset Normalization\n",
    "\n",
    "Dataset used in this project\n",
    "- **EFRS dataset** (*event_trip_summary, unit_trip_summary, unit_history*) http://ftp.safecity.savitestbed.ca/\n",
    "- **Neighbourhood** (*City_of_Edmonton_-_Neighbourhoods_20241022*) https://data.edmonton.ca/City-Administration/City-of-Edmonton-Neighbourhoods/65fr-66s6/about_data\n",
    "- **Fire Stations** (*Fire_Stations_20241027*): https://data.edmonton.ca/Emergency-Services/Fire-Stations/b4y7-zhnz/about_data\n",
    "- **Neighbourhood Features** (*neighbourhood_static_data_with_five_years_events*): Email \"Static features data by neighborhood of the city of Edmonton\" from Dilli"
   ]
  },
  {
   "cell_type": "code",
   "execution_count": null,
   "metadata": {
    "colab": {
     "base_uri": "https://localhost:8080/"
    },
    "executionInfo": {
     "elapsed": 9778,
     "status": "ok",
     "timestamp": 1731973733945,
     "user": {
      "displayName": "Zichun Chong (Chris)",
      "userId": "05603501305871270655"
     },
     "user_tz": 300
    },
    "id": "BRbx-0vD9um7",
    "outputId": "c69b077c-636e-4c58-d1c5-fa705e824e52"
   },
   "outputs": [],
   "source": [
    "!pip install -r ../requirements.txt"
   ]
  },
  {
   "cell_type": "code",
   "execution_count": null,
   "metadata": {
    "executionInfo": {
     "elapsed": 19035,
     "status": "ok",
     "timestamp": 1731973752976,
     "user": {
      "displayName": "Zichun Chong (Chris)",
      "userId": "05603501305871270655"
     },
     "user_tz": 300
    },
    "id": "x7j2TYrb-PoY"
   },
   "outputs": [],
   "source": [
    "import copy\n",
    "import math\n",
    "import datetime\n",
    "import time\n",
    "import os\n",
    "\n",
    "import numpy as np\n",
    "import pandas as pd\n",
    "\n",
    "import matplotlib.pyplot as plt\n",
    "import seaborn as sns\n",
    "import geopandas as gpd\n",
    "import contextily as ctx\n",
    "\n",
    "from scipy import stats\n",
    "from shapely.geometry import Point, MultiPolygon\n",
    "from shapely.wkt import loads"
   ]
  },
  {
   "cell_type": "code",
   "execution_count": null,
   "metadata": {
    "colab": {
     "base_uri": "https://localhost:8080/"
    },
    "executionInfo": {
     "elapsed": 20632,
     "status": "ok",
     "timestamp": 1731973773603,
     "user": {
      "displayName": "Zichun Chong (Chris)",
      "userId": "05603501305871270655"
     },
     "user_tz": 300
    },
    "id": "tR6UJ3W7-T1T",
    "outputId": "fa9b6b43-c257-4ea4-bb23-8f7bc818510b"
   },
   "outputs": [],
   "source": [
    "try:\n",
    "  from google.colab import drive\n",
    "  print(\"Running on Google Colab, reading dataset from drive\")\n",
    "  drive.mount(\"/content/drive\")\n",
    "  DATASET_PATH = \"/content/drive/MyDrive/ECE2500/EdmontonFireRescueServicesData\"\n",
    "except:\n",
    "  print(\"Running locally, reading dataset from local file system\")\n",
    "  DATASET_PATH = \"../dataset/EdmontonFireRescueServicesData\"\n",
    "  if not os.path.exists(DATASET_PATH):\n",
    "    print(f\"Cannot find dataset directory, place dataset in {DATASET_PATH}\")\n",
    "    exit(1)\n",
    "\n",
    "UNIT_TRIP_PATH = os.path.join(DATASET_PATH, \"EFRS_Unit_Trip_Summary.csv\")\n",
    "EVENT_TRIP_PATH = os.path.join(DATASET_PATH, \"EFRS_Event_Trip_Summary.csv\")\n",
    "UNIT_HISTORY_2023_PATH = os.path.join(DATASET_PATH, \"UN_HI_2023.csv\")\n",
    "NEIGHBOURHOOD_PATH = os.path.join(DATASET_PATH, \"City_of_Edmonton_-_Neighbourhoods_20241022.csv\")\n",
    "FIRE_STATION_PATH = os.path.join(DATASET_PATH, \"Fire_Stations_20241027.csv\")\n",
    "NEIGHBOURHOOD_FEATURES_PATH = os.path.join(DATASET_PATH, \"neighbourhood_static_data_with_five_years_events.csv\")\n",
    "\n",
    "print(f\"Unit Trip: {UNIT_TRIP_PATH}\")\n",
    "print(f\"Event Trip: {EVENT_TRIP_PATH}\")\n",
    "print(f\"Unit History 2023: {UNIT_HISTORY_2023_PATH}\")\n",
    "print(f\"Neighbourhood: {NEIGHBOURHOOD_PATH}\")\n",
    "print(f\"Fire Stations: {FIRE_STATION_PATH}\")\n",
    "print(f\"Neighbourhood Features: {NEIGHBOURHOOD_FEATURES_PATH}\")"
   ]
  },
  {
   "cell_type": "markdown",
   "metadata": {
    "id": "fHujIOJYar8B"
   },
   "source": [
    "## 1 Event Trip Data"
   ]
  },
  {
   "cell_type": "code",
   "execution_count": null,
   "metadata": {
    "colab": {
     "base_uri": "https://localhost:8080/"
    },
    "executionInfo": {
     "elapsed": 23223,
     "status": "ok",
     "timestamp": 1731973796824,
     "user": {
      "displayName": "Zichun Chong (Chris)",
      "userId": "05603501305871270655"
     },
     "user_tz": 300
    },
    "id": "4SGPXz7hCYpp",
    "outputId": "ffbba2a8-9614-4ca9-f671-e6ffe827142d"
   },
   "outputs": [],
   "source": [
    "event_trip_df = pd.read_csv(EVENT_TRIP_PATH)\n",
    "\n",
    "event_trip_df.columns"
   ]
  },
  {
   "cell_type": "code",
   "execution_count": null,
   "metadata": {
    "colab": {
     "base_uri": "https://localhost:8080/",
     "height": 377
    },
    "executionInfo": {
     "elapsed": 6,
     "status": "ok",
     "timestamp": 1731973796825,
     "user": {
      "displayName": "Zichun Chong (Chris)",
      "userId": "05603501305871270655"
     },
     "user_tz": 300
    },
    "id": "zpHTWyqeC20T",
    "outputId": "b6ccf3eb-b23c-4734-b433-e5a3b1eb4093"
   },
   "outputs": [],
   "source": [
    "event_trip_df.head(5)"
   ]
  },
  {
   "cell_type": "code",
   "execution_count": null,
   "metadata": {
    "colab": {
     "base_uri": "https://localhost:8080/",
     "height": 637
    },
    "executionInfo": {
     "elapsed": 585,
     "status": "ok",
     "timestamp": 1731973797405,
     "user": {
      "displayName": "Zichun Chong (Chris)",
      "userId": "05603501305871270655"
     },
     "user_tz": 300
    },
    "id": "D3S_t9zfEmmk",
    "outputId": "51424d9e-08f5-4bc6-fc10-ed729cf44f5a"
   },
   "outputs": [],
   "source": [
    "# Convert 'Sd_date' to datetime objects\n",
    "event_trip_df['Sd_date'] = pd.to_datetime(event_trip_df['Sd_date'])\n",
    "event_trip_df['month'] = event_trip_df['Sd_date'].dt.month\n",
    "\n",
    "monthly_buckets = {}\n",
    "for month in range(1, 13):\n",
    "  monthly_buckets[month] = event_trip_df[event_trip_df['month'] == month]\n",
    "  print(f\"month {month}, len {monthly_buckets[month].size}\")\n",
    "\n",
    "january_df = monthly_buckets[1]\n",
    "january_df.head()"
   ]
  },
  {
   "cell_type": "code",
   "execution_count": null,
   "metadata": {
    "executionInfo": {
     "elapsed": 2,
     "status": "ok",
     "timestamp": 1731973797970,
     "user": {
      "displayName": "Zichun Chong (Chris)",
      "userId": "05603501305871270655"
     },
     "user_tz": 300
    },
    "id": "Pf7DKdTjVRMv"
   },
   "outputs": [],
   "source": [
    "event_trip_df['year'] = event_trip_df['Sd_date'].dt.year\n",
    "event_trip_df['month'] = event_trip_df['Sd_date'].dt.month\n",
    "event_trip_df['week'] = event_trip_df['Sd_date'].dt.strftime(\"%V\")\n",
    "event_trip_df['dayofweek'] = event_trip_df['Sd_date'].dt.dayofweek"
   ]
  },
  {
   "cell_type": "code",
   "execution_count": null,
   "metadata": {
    "colab": {
     "base_uri": "https://localhost:8080/",
     "height": 1000
    },
    "executionInfo": {
     "elapsed": 486,
     "status": "ok",
     "timestamp": 1731973798455,
     "user": {
      "displayName": "Zichun Chong (Chris)",
      "userId": "05603501305871270655"
     },
     "user_tz": 300
    },
    "id": "43mlJy7UTdbU",
    "outputId": "dfc5c00e-3a51-4f6c-c8cc-38e866cfe9f8"
   },
   "outputs": [],
   "source": [
    "card_count_df = event_trip_df['card_description'].value_counts()\n",
    "\n",
    "for i in range(2015, 2024):\n",
    "  yearly_df = event_trip_df[event_trip_df['year'] == i]\n",
    "  yearly_df = yearly_df['card_description'].value_counts()\n",
    "  card_count_df = pd.concat((card_count_df, yearly_df.rename(i)), axis=1)\n",
    "\n",
    "card_count_df.head(30)"
   ]
  },
  {
   "cell_type": "code",
   "execution_count": null,
   "metadata": {
    "colab": {
     "base_uri": "https://localhost:8080/",
     "height": 429
    },
    "executionInfo": {
     "elapsed": 5,
     "status": "ok",
     "timestamp": 1731973798455,
     "user": {
      "displayName": "Zichun Chong (Chris)",
      "userId": "05603501305871270655"
     },
     "user_tz": 300
    },
    "id": "mzPdUCzSdIWj",
    "outputId": "195dc893-03bf-4e6f-ffff-6aa564eb7847"
   },
   "outputs": [],
   "source": [
    "event_trip_df['hour'] = event_trip_df['Sd_date'].dt.hour\n",
    "event_trip_df.head(5)"
   ]
  },
  {
   "cell_type": "code",
   "execution_count": null,
   "metadata": {
    "colab": {
     "base_uri": "https://localhost:8080/",
     "height": 564
    },
    "executionInfo": {
     "elapsed": 440,
     "status": "ok",
     "timestamp": 1731973798892,
     "user": {
      "displayName": "Zichun Chong (Chris)",
      "userId": "05603501305871270655"
     },
     "user_tz": 300
    },
    "id": "wQ-bd2Z-eIOM",
    "outputId": "1b1376a5-1723-4e3f-87ff-80406eac48ae"
   },
   "outputs": [],
   "source": [
    "eid_counts_buckets = event_trip_df.groupby('dayofweek')['Eid'].nunique()\n",
    "# eid_counts_buckets = eid_counts_buckets.drop(['53']) # for weekly event count\n",
    "\n",
    "plt.figure(figsize=(10, 6))\n",
    "plt.plot(eid_counts_buckets.index, eid_counts_buckets.values)\n",
    "plt.xlabel('Day of Week')\n",
    "plt.ylabel('Number of Events')\n",
    "plt.title('Number of Events by Day of Week')\n",
    "# plt.grid(True)\n",
    "plt.show()"
   ]
  },
  {
   "cell_type": "code",
   "execution_count": null,
   "metadata": {
    "colab": {
     "base_uri": "https://localhost:8080/"
    },
    "executionInfo": {
     "elapsed": 2,
     "status": "ok",
     "timestamp": 1731973798892,
     "user": {
      "displayName": "Zichun Chong (Chris)",
      "userId": "05603501305871270655"
     },
     "user_tz": 300
    },
    "id": "xXxuVe7rd0r-",
    "outputId": "c0328903-749d-44dc-da0d-f9b5f943f946"
   },
   "outputs": [],
   "source": [
    "event_trip_df['Rc_description'].unique()"
   ]
  },
  {
   "cell_type": "markdown",
   "metadata": {
    "id": "VOYOPWIza1Ae"
   },
   "source": [
    "## 2 Unit Trip Data"
   ]
  },
  {
   "cell_type": "code",
   "execution_count": null,
   "metadata": {
    "colab": {
     "base_uri": "https://localhost:8080/"
    },
    "executionInfo": {
     "elapsed": 9605,
     "status": "ok",
     "timestamp": 1731973808495,
     "user": {
      "displayName": "Zichun Chong (Chris)",
      "userId": "05603501305871270655"
     },
     "user_tz": 300
    },
    "id": "fKTEgHFla27H",
    "outputId": "7bca59cf-0a28-439d-9197-c7162c40bb84"
   },
   "outputs": [],
   "source": [
    "unit_trip_df = pd.read_csv(UNIT_TRIP_PATH)\n",
    "\n",
    "# Change EID to Eid for correlation\n",
    "unit_trip_df.rename(columns={'EID': 'Eid'}, inplace=True)\n",
    "unit_trip_df.columns"
   ]
  },
  {
   "cell_type": "code",
   "execution_count": null,
   "metadata": {
    "colab": {
     "base_uri": "https://localhost:8080/",
     "height": 429
    },
    "executionInfo": {
     "elapsed": 2240,
     "status": "ok",
     "timestamp": 1731973810732,
     "user": {
      "displayName": "Zichun Chong (Chris)",
      "userId": "05603501305871270655"
     },
     "user_tz": 300
    },
    "id": "O6YuszC5a7My",
    "outputId": "bd090b6e-d27a-49da-cd30-fbcb658db56b"
   },
   "outputs": [],
   "source": [
    "event_unit_trip_df = pd.merge(event_trip_df, unit_trip_df, on='Eid', how='inner')\n",
    "event_unit_trip_df.head(5)"
   ]
  },
  {
   "cell_type": "code",
   "execution_count": null,
   "metadata": {
    "colab": {
     "base_uri": "https://localhost:8080/",
     "height": 394
    },
    "executionInfo": {
     "elapsed": 858,
     "status": "ok",
     "timestamp": 1731973811587,
     "user": {
      "displayName": "Zichun Chong (Chris)",
      "userId": "05603501305871270655"
     },
     "user_tz": 300
    },
    "id": "abrwdhs0bxWL",
    "outputId": "cb528764-03ff-414d-9329-8bbc4c2a04ed"
   },
   "outputs": [],
   "source": [
    "event_unit_trip_df['year'] = event_unit_trip_df['Sd_date'].dt.year\n",
    "event_unit_trip_df['month'] = event_unit_trip_df['Sd_date'].dt.month\n",
    "\n",
    "unit_type_count_df = event_unit_trip_df['unityp'].value_counts()\n",
    "\n",
    "for i in range(2015, 2024):\n",
    "  yearly_df = event_unit_trip_df[event_unit_trip_df['year'] == i]\n",
    "  yearly_df = yearly_df['unityp'].value_counts()\n",
    "  unit_type_count_df = pd.concat((unit_type_count_df, yearly_df.rename(i)), axis=1)\n",
    "\n",
    "unit_type_count_df.head(10)"
   ]
  },
  {
   "cell_type": "markdown",
   "metadata": {
    "id": "_QTh4rFnCwzf"
   },
   "source": [
    "## 3 Unit History Data"
   ]
  },
  {
   "cell_type": "code",
   "execution_count": null,
   "metadata": {
    "colab": {
     "base_uri": "https://localhost:8080/",
     "height": 206
    },
    "executionInfo": {
     "elapsed": 2135,
     "status": "ok",
     "timestamp": 1731973813720,
     "user": {
      "displayName": "Zichun Chong (Chris)",
      "userId": "05603501305871270655"
     },
     "user_tz": 300
    },
    "id": "Q9tMGy5MCtNc",
    "outputId": "056afa3f-f67e-42da-bd38-d410bbdb5773"
   },
   "outputs": [],
   "source": [
    "unit_history_2023_df = pd.read_csv(UNIT_HISTORY_2023_PATH)\n",
    "unit_history_2023_df.head()"
   ]
  },
  {
   "cell_type": "markdown",
   "metadata": {
    "id": "0oGg29vldEte"
   },
   "source": [
    "## 4 Neighbourhood & Stations"
   ]
  },
  {
   "cell_type": "code",
   "execution_count": null,
   "metadata": {
    "colab": {
     "base_uri": "https://localhost:8080/",
     "height": 397
    },
    "executionInfo": {
     "elapsed": 422,
     "status": "ok",
     "timestamp": 1731973814140,
     "user": {
      "displayName": "Zichun Chong (Chris)",
      "userId": "05603501305871270655"
     },
     "user_tz": 300
    },
    "id": "6WYe4jYddLSL",
    "outputId": "0169d887-88d8-41bd-d532-0a85574bccb7"
   },
   "outputs": [],
   "source": [
    "neighbourhood_df = pd.read_csv(NEIGHBOURHOOD_PATH)\n",
    "\n",
    "neighbourhood_df.head(5)"
   ]
  },
  {
   "cell_type": "code",
   "execution_count": null,
   "metadata": {
    "colab": {
     "base_uri": "https://localhost:8080/",
     "height": 342
    },
    "executionInfo": {
     "elapsed": 180,
     "status": "ok",
     "timestamp": 1731973814318,
     "user": {
      "displayName": "Zichun Chong (Chris)",
      "userId": "05603501305871270655"
     },
     "user_tz": 300
    },
    "id": "7VEB--WehUYl",
    "outputId": "13c12442-707f-4615-9a0b-42547915606d"
   },
   "outputs": [],
   "source": [
    "neighbourhood_feature_df = pd.read_csv(NEIGHBOURHOOD_FEATURES_PATH)\n",
    "\n",
    "neighbourhood_feature_df.head(5)"
   ]
  },
  {
   "cell_type": "code",
   "execution_count": null,
   "metadata": {
    "colab": {
     "base_uri": "https://localhost:8080/"
    },
    "executionInfo": {
     "elapsed": 6,
     "status": "ok",
     "timestamp": 1731973814319,
     "user": {
      "displayName": "Zichun Chong (Chris)",
      "userId": "05603501305871270655"
     },
     "user_tz": 300
    },
    "id": "W6-PXc64ixE4",
    "outputId": "4b690f97-a85b-4423-9b04-70439466d257"
   },
   "outputs": [],
   "source": [
    "neighbourhood_feature_joined = pd.merge(neighbourhood_feature_df, neighbourhood_df, left_on='Neighbourhood_Number', right_on='Neighbourhood Number', how='inner')\n",
    "\n",
    "neighbourhood_feature_joined.columns"
   ]
  },
  {
   "cell_type": "code",
   "execution_count": null,
   "metadata": {
    "colab": {
     "base_uri": "https://localhost:8080/",
     "height": 206
    },
    "executionInfo": {
     "elapsed": 356,
     "status": "ok",
     "timestamp": 1731973814671,
     "user": {
      "displayName": "Zichun Chong (Chris)",
      "userId": "05603501305871270655"
     },
     "user_tz": 300
    },
    "id": "FiOckgxLICwQ",
    "outputId": "652381b2-2d99-4996-83bf-47513f44f7fa"
   },
   "outputs": [],
   "source": [
    "station_df = pd.read_csv(FIRE_STATION_PATH)\n",
    "\n",
    "station_df.head(5)"
   ]
  },
  {
   "cell_type": "code",
   "execution_count": null,
   "metadata": {
    "executionInfo": {
     "elapsed": 4,
     "status": "ok",
     "timestamp": 1731973814671,
     "user": {
      "displayName": "Zichun Chong (Chris)",
      "userId": "05603501305871270655"
     },
     "user_tz": 300
    },
    "id": "MH758F2poy6B"
   },
   "outputs": [],
   "source": [
    "neighbourhood_df['multipolygon object'] = neighbourhood_df['Geometry Multipolygon'].apply(loads)\n",
    "station_df['point object'] = station_df['POINT LOCATION'].apply(loads)\n",
    "\n",
    "# # List of neighbourhoods\n",
    "# neighbourhood_list = list()\n",
    "# for index, row in neighbourhood_df.iterrows():\n",
    "#   try:\n",
    "#     multipolygon = loads(row['Geometry Multipolygon'])\n",
    "#     neighbourhood_list.append(multipolygon)\n",
    "#   except Exception as e:\n",
    "#     print(f\"Error processing row {index}: {e}\")\n",
    "#     continue\n",
    "\n",
    "def find_neighbourhood(latitude, longitude, neighbourhood_df):\n",
    "  \"\"\"Finds the Neighbourhood Number for a given latitude and longitude.\n",
    "\n",
    "  Args:\n",
    "    latitude: The latitude.\n",
    "    longitude: The longitude.\n",
    "    neighbourhood_df: The DataFrame containing neighbourhood data.\n",
    "\n",
    "  Returns:\n",
    "    The Neighbourhood Number, or None if not found.\n",
    "  \"\"\"\n",
    "  point = Point(longitude, latitude)\n",
    "  for index, row in neighbourhood_df.iterrows():\n",
    "    multipolygon = row['multipolygon object']\n",
    "    if multipolygon.contains(point):\n",
    "      return row['Neighbourhood Number']\n",
    "  return None"
   ]
  },
  {
   "cell_type": "code",
   "execution_count": null,
   "metadata": {
    "colab": {
     "base_uri": "https://localhost:8080/"
    },
    "executionInfo": {
     "elapsed": 3,
     "status": "ok",
     "timestamp": 1731973814671,
     "user": {
      "displayName": "Zichun Chong (Chris)",
      "userId": "05603501305871270655"
     },
     "user_tz": 300
    },
    "id": "rnE2_qValiG9",
    "outputId": "a5e61270-1510-4b3c-ed46-cc3cfa40fd94"
   },
   "outputs": [],
   "source": [
    "print(f\"length of neighbourhood_df {len(neighbourhood_df)}\")\n",
    "print(f\"length of station_df {len(station_df)}\")\n",
    "print(f\"length of unit_history_2023_df {len(unit_history_2023_df)}\")\n",
    "print(f\"length of event_trip_df {len(event_trip_df)}\")\n",
    "print(f\"length of unit_trip_df {len(unit_trip_df)}\")\n",
    "print(f\"length of event_unit_trip_df {len(event_unit_trip_df)}\")"
   ]
  },
  {
   "cell_type": "code",
   "execution_count": null,
   "metadata": {
    "colab": {
     "base_uri": "https://localhost:8080/",
     "height": 467
    },
    "executionInfo": {
     "elapsed": 7829,
     "status": "ok",
     "timestamp": 1731973822498,
     "user": {
      "displayName": "Zichun Chong (Chris)",
      "userId": "05603501305871270655"
     },
     "user_tz": 300
    },
    "id": "KRuis0_2fXdi",
    "outputId": "024e89b3-3963-412f-c8fc-39b7332748db"
   },
   "outputs": [],
   "source": [
    "# # Apply the function to each row in unit_history_2023_df\n",
    "# unit_history_2023_df['Neighbourhood Number'] = unit_history_2023_df.apply(\n",
    "#     lambda row: find_neighbourhood(row['latitude'], row['longitude'], neighbourhood_df), axis=1)\n",
    "# unit_history_2023_df.head(10)\n",
    "\n",
    "unit_history_2023_df_head = unit_history_2023_df.head(403)\n",
    "unit_history_2023_df_head['Neighbourhood Number'] = unit_history_2023_df_head.apply(\n",
    "    lambda row: find_neighbourhood(row['latitude'], row['longitude'], neighbourhood_df), axis=1)\n",
    "unit_history_2023_df_head.head(10)"
   ]
  },
  {
   "cell_type": "code",
   "execution_count": null,
   "metadata": {
    "colab": {
     "base_uri": "https://localhost:8080/",
     "height": 1000
    },
    "executionInfo": {
     "elapsed": 12402,
     "status": "ok",
     "timestamp": 1731973834897,
     "user": {
      "displayName": "Zichun Chong (Chris)",
      "userId": "05603501305871270655"
     },
     "user_tz": 300
    },
    "id": "zuCND3mjgJVl",
    "outputId": "af6947d2-9cf5-4636-bbb5-3839cc86ecd4"
   },
   "outputs": [],
   "source": [
    "# Convert 'Geometry Multipolygon' to a geometry column if not already done\n",
    "neighbourhood_df['geometry'] = gpd.GeoSeries.from_wkt(neighbourhood_df['Geometry Multipolygon'])\n",
    "neighbourhood_gdf = gpd.GeoDataFrame(neighbourhood_df, geometry='geometry')\n",
    "\n",
    "# Set a coordinate reference system (CRS) if not already defined\n",
    "neighbourhood_gdf.crs = \"EPSG:4326\" # Example: WGS 84\n",
    "\n",
    "# Create a plot of the neighbourhoods\n",
    "fig, ax = plt.subplots(figsize=(10, 10))\n",
    "neighbourhood_gdf.plot(ax=ax, color='lightblue', edgecolor='black')\n",
    "\n",
    "# Add a basemap (optional)\n",
    "ctx.add_basemap(ax, crs=neighbourhood_gdf.crs, zoom=11)\n",
    "\n",
    "# Customize plot labels and title\n",
    "ax.set_title('Edmonton Neighbourhoods')\n",
    "\n",
    "# Display the plot\n",
    "plt.show()"
   ]
  },
  {
   "cell_type": "code",
   "execution_count": null,
   "metadata": {
    "colab": {
     "base_uri": "https://localhost:8080/",
     "height": 1000
    },
    "executionInfo": {
     "elapsed": 2864,
     "status": "ok",
     "timestamp": 1731973837758,
     "user": {
      "displayName": "Zichun Chong (Chris)",
      "userId": "05603501305871270655"
     },
     "user_tz": 300
    },
    "id": "f8_wWPqzjkMw",
    "outputId": "55e6896a-c588-470b-fff6-9aede8a7f396"
   },
   "outputs": [],
   "source": [
    "event_trip_df_head = event_trip_df.head(500)\n",
    "\n",
    "# Create a GeoDataFrame for events and stations\n",
    "event_trip_gdf = gpd.GeoDataFrame(\n",
    "    event_trip_df_head,\n",
    "    geometry=gpd.points_from_xy(event_trip_df_head['Longitude'], event_trip_df_head['Latitude'])\n",
    ")\n",
    "station_gdf = gpd.GeoDataFrame(\n",
    "    station_df,\n",
    "    geometry=gpd.points_from_xy(station_df['LONGITUDE'], station_df['LATITUDE'])\n",
    ")\n",
    "\n",
    "# Set the coordinate reference system\n",
    "station_gdf.crs = \"EPSG:4326\"\n",
    "event_trip_gdf.crs = \"EPSG:4326\"\n",
    "\n",
    "# Create a plot of the neighbourhoods\n",
    "fig, ax = plt.subplots(figsize=(10, 10))\n",
    "neighbourhood_gdf.plot(ax=ax, color='lightblue', edgecolor='black')\n",
    "\n",
    "# Plot the events and stations on top of the neighbourhoods\n",
    "event_trip_gdf.plot(ax=ax, markersize=3, color='red', label='Events')\n",
    "station_gdf.plot(ax=ax, markersize=5, color='blue', label='Stations')\n",
    "\n",
    "# Add a basemap (optional)\n",
    "ctx.add_basemap(ax, crs=neighbourhood_gdf.crs, zoom=11)\n",
    "\n",
    "# Customize plot labels and title\n",
    "ax.set_title('Edmonton Neighbourhoods with Events and Stations')\n",
    "ax.legend()\n",
    "\n",
    "# Display the plot\n",
    "plt.show()"
   ]
  },
  {
   "cell_type": "markdown",
   "metadata": {
    "id": "-1Ohp-w6mD0q"
   },
   "source": [
    "## 5 Understanding Events\n",
    "\n",
    "Selected a few Response Codes and then one event for each code in 2023.\n",
    "- Alarms\n",
    "- Non-Structural Fire\n",
    "- Structural Fire\n",
    "- Major Event\n",
    "- Rescue"
   ]
  },
  {
   "cell_type": "code",
   "execution_count": null,
   "metadata": {
    "colab": {
     "base_uri": "https://localhost:8080/"
    },
    "executionInfo": {
     "elapsed": 19,
     "status": "ok",
     "timestamp": 1731973837758,
     "user": {
      "displayName": "Zichun Chong (Chris)",
      "userId": "05603501305871270655"
     },
     "user_tz": 300
    },
    "id": "1GWd60_Qok2h",
    "outputId": "4bb888a1-05be-4a9e-96c2-6a31c2a3a2b2"
   },
   "outputs": [],
   "source": [
    "event_trip_df['Rc_description'].unique()\n",
    "\n",
    "# event_trip_df[event_trip_df['Rc_description'] == \"Alarms\"]"
   ]
  },
  {
   "cell_type": "code",
   "execution_count": null,
   "metadata": {
    "executionInfo": {
     "elapsed": 17,
     "status": "ok",
     "timestamp": 1731973837758,
     "user": {
      "displayName": "Zichun Chong (Chris)",
      "userId": "05603501305871270655"
     },
     "user_tz": 300
    },
    "id": "d4lcq6a_mDRn"
   },
   "outputs": [],
   "source": [
    "# Rc_description: Alarms\n",
    "interested_eid = 2890339\n",
    "\n",
    "# Rc_description: Non-Structural Fire\n",
    "# interested_eid = 2890362\n",
    "\n",
    "# Rc_description: Structural Fire\n",
    "# interested_eid = 2890174\n",
    "\n",
    "# Rc_description: Major Event\n",
    "# interested_eid = 2887326\n",
    "\n",
    "# Rc_description: Rescue\n",
    "# interested_eid = 2890322\n"
   ]
  },
  {
   "cell_type": "markdown",
   "metadata": {
    "id": "gxH0WrSi-klu"
   },
   "source": [
    "### Select Alarm Event"
   ]
  },
  {
   "cell_type": "code",
   "execution_count": null,
   "metadata": {
    "executionInfo": {
     "elapsed": 17,
     "status": "ok",
     "timestamp": 1731973837758,
     "user": {
      "displayName": "Zichun Chong (Chris)",
      "userId": "05603501305871270655"
     },
     "user_tz": 300
    },
    "id": "VSQJddlioFTo"
   },
   "outputs": [],
   "source": [
    "# Event Trip\n",
    "\n",
    "alarm_event_trip = event_trip_df[event_trip_df['Eid'] == interested_eid]"
   ]
  },
  {
   "cell_type": "code",
   "execution_count": null,
   "metadata": {
    "colab": {
     "base_uri": "https://localhost:8080/",
     "height": 165
    },
    "executionInfo": {
     "elapsed": 17,
     "status": "ok",
     "timestamp": 1731973837758,
     "user": {
      "displayName": "Zichun Chong (Chris)",
      "userId": "05603501305871270655"
     },
     "user_tz": 300
    },
    "id": "eEjHTCG6-6Ox",
    "outputId": "fa8daa12-e287-4164-df4c-28503515d548"
   },
   "outputs": [],
   "source": [
    "alarm_event_trip"
   ]
  },
  {
   "cell_type": "code",
   "execution_count": null,
   "metadata": {
    "colab": {
     "base_uri": "https://localhost:8080/",
     "height": 355
    },
    "executionInfo": {
     "elapsed": 16,
     "status": "ok",
     "timestamp": 1731973837758,
     "user": {
      "displayName": "Zichun Chong (Chris)",
      "userId": "05603501305871270655"
     },
     "user_tz": 300
    },
    "id": "tZvnzSZpoEZT",
    "outputId": "e7b5be4f-accb-42ce-85f8-b73e43d880bd"
   },
   "outputs": [],
   "source": [
    "# Unit History\n",
    "\n",
    "alarm_unit_history = unit_history_2023_df[unit_history_2023_df['eid'] == interested_eid]\n",
    "\n",
    "print(f\"Unit IDs: {alarm_unit_history['unid'].unique()}\")\n",
    "print(f\"Unit Types: {alarm_unit_history['unityp'].unique()}\")\n",
    "print(f\"Unit Status: {alarm_unit_history['unit_status'].unique()}\")\n",
    "\n",
    "alarm_unit_history['unid'].value_counts().sort_index()"
   ]
  },
  {
   "cell_type": "code",
   "execution_count": null,
   "metadata": {
    "colab": {
     "base_uri": "https://localhost:8080/",
     "height": 143
    },
    "executionInfo": {
     "elapsed": 14,
     "status": "ok",
     "timestamp": 1731973837758,
     "user": {
      "displayName": "Zichun Chong (Chris)",
      "userId": "05603501305871270655"
     },
     "user_tz": 300
    },
    "id": "bTAvTGvwSqCX",
    "outputId": "7425e1c0-3ca3-45ee-953b-6cf900e84a3a"
   },
   "outputs": [],
   "source": [
    "unit_history_DC3 = alarm_unit_history[alarm_unit_history['unid'] == \"DC3\"]\n",
    "unit_history_DC3"
   ]
  },
  {
   "cell_type": "code",
   "execution_count": null,
   "metadata": {
    "colab": {
     "base_uri": "https://localhost:8080/",
     "height": 143
    },
    "executionInfo": {
     "elapsed": 13,
     "status": "ok",
     "timestamp": 1731973837758,
     "user": {
      "displayName": "Zichun Chong (Chris)",
      "userId": "05603501305871270655"
     },
     "user_tz": 300
    },
    "id": "sSdeYnOgS0D4",
    "outputId": "7ccfb25d-d0af-45e9-b28b-78722082ce5b"
   },
   "outputs": [],
   "source": [
    "unit_history_LD16 = alarm_unit_history[alarm_unit_history['unid'] == \"LD16\"]\n",
    "unit_history_LD16"
   ]
  },
  {
   "cell_type": "code",
   "execution_count": null,
   "metadata": {
    "colab": {
     "base_uri": "https://localhost:8080/",
     "height": 175
    },
    "executionInfo": {
     "elapsed": 13,
     "status": "ok",
     "timestamp": 1731973837758,
     "user": {
      "displayName": "Zichun Chong (Chris)",
      "userId": "05603501305871270655"
     },
     "user_tz": 300
    },
    "id": "f77rTTZES12C",
    "outputId": "5540ffbc-25af-42fb-d17b-8000f58c37a6"
   },
   "outputs": [],
   "source": [
    "unit_history_P16 = alarm_unit_history[alarm_unit_history['unid'] == \"P16\"]\n",
    "unit_history_P16"
   ]
  },
  {
   "cell_type": "code",
   "execution_count": null,
   "metadata": {
    "colab": {
     "base_uri": "https://localhost:8080/",
     "height": 175
    },
    "executionInfo": {
     "elapsed": 12,
     "status": "ok",
     "timestamp": 1731973837758,
     "user": {
      "displayName": "Zichun Chong (Chris)",
      "userId": "05603501305871270655"
     },
     "user_tz": 300
    },
    "id": "j1yueOhBS5H0",
    "outputId": "f28962e1-5fbb-4e67-b4de-84f1a25da9a4"
   },
   "outputs": [],
   "source": [
    "unit_history_P26 = alarm_unit_history[alarm_unit_history['unid'] == \"P26\"]\n",
    "unit_history_P26"
   ]
  },
  {
   "cell_type": "code",
   "execution_count": null,
   "metadata": {
    "colab": {
     "base_uri": "https://localhost:8080/",
     "height": 143
    },
    "executionInfo": {
     "elapsed": 189,
     "status": "ok",
     "timestamp": 1731973837936,
     "user": {
      "displayName": "Zichun Chong (Chris)",
      "userId": "05603501305871270655"
     },
     "user_tz": 300
    },
    "id": "XeZUdpBdS5ln",
    "outputId": "ba50c8c6-7548-47d6-f6e8-13d0dd6f6bd3"
   },
   "outputs": [],
   "source": [
    "unit_history_R20 = alarm_unit_history[alarm_unit_history['unid'] == \"R20\"]\n",
    "unit_history_R20"
   ]
  },
  {
   "cell_type": "code",
   "execution_count": null,
   "metadata": {
    "colab": {
     "base_uri": "https://localhost:8080/",
     "height": 206
    },
    "executionInfo": {
     "elapsed": 11,
     "status": "ok",
     "timestamp": 1731973837936,
     "user": {
      "displayName": "Zichun Chong (Chris)",
      "userId": "05603501305871270655"
     },
     "user_tz": 300
    },
    "id": "shH8ifi5S6H5",
    "outputId": "2c35d514-3e06-4ba3-d279-42bf1b9bfabc"
   },
   "outputs": [],
   "source": [
    "unit_history_TK26 = alarm_unit_history[alarm_unit_history['unid'] == \"TK26\"]\n",
    "unit_history_TK26"
   ]
  },
  {
   "cell_type": "code",
   "execution_count": null,
   "metadata": {
    "colab": {
     "base_uri": "https://localhost:8080/",
     "height": 739
    },
    "executionInfo": {
     "elapsed": 11,
     "status": "ok",
     "timestamp": 1731973837937,
     "user": {
      "displayName": "Zichun Chong (Chris)",
      "userId": "05603501305871270655"
     },
     "user_tz": 300
    },
    "id": "ZPLVf_1v-96N",
    "outputId": "dd158c21-6efe-4fba-f7ec-67baed42cffc"
   },
   "outputs": [],
   "source": [
    "alarm_unit_history"
   ]
  },
  {
   "cell_type": "code",
   "execution_count": null,
   "metadata": {
    "colab": {
     "base_uri": "https://localhost:8080/",
     "height": 355
    },
    "executionInfo": {
     "elapsed": 11,
     "status": "ok",
     "timestamp": 1731973837937,
     "user": {
      "displayName": "Zichun Chong (Chris)",
      "userId": "05603501305871270655"
     },
     "user_tz": 300
    },
    "id": "Bg5kWF1DoGG5",
    "outputId": "6fd99ca4-f016-457a-fe83-922ba7dfcd37"
   },
   "outputs": [],
   "source": [
    "# Unit Trip\n",
    "\n",
    "alarm_unit_trip = unit_trip_df[unit_trip_df['Eid'] == interested_eid]\n",
    "\n",
    "print(f\"Unit IDs: {alarm_unit_trip['unid'].unique()}\")\n",
    "print(f\"CAD Unit IDs: {alarm_unit_trip['cad_unid'].unique()}\")\n",
    "print(f\"Stations: {alarm_unit_trip['station'].unique()}\")\n",
    "\n",
    "alarm_unit_trip['unid'].value_counts().sort_index()"
   ]
  },
  {
   "cell_type": "code",
   "execution_count": null,
   "metadata": {
    "colab": {
     "base_uri": "https://localhost:8080/",
     "height": 361
    },
    "executionInfo": {
     "elapsed": 9,
     "status": "ok",
     "timestamp": 1731973837937,
     "user": {
      "displayName": "Zichun Chong (Chris)",
      "userId": "05603501305871270655"
     },
     "user_tz": 300
    },
    "id": "HuOqBwWh-axv",
    "outputId": "b459d8db-8678-48fd-f774-f57b190a29a5"
   },
   "outputs": [],
   "source": [
    "alarm_unit_trip"
   ]
  },
  {
   "cell_type": "code",
   "execution_count": null,
   "metadata": {
    "executionInfo": {
     "elapsed": 8,
     "status": "ok",
     "timestamp": 1731973837937,
     "user": {
      "displayName": "Zichun Chong (Chris)",
      "userId": "05603501305871270655"
     },
     "user_tz": 300
    },
    "id": "mgqzjvBFLPdG"
   },
   "outputs": [],
   "source": [
    "selected_stations = [24, 16, 26, 20]\n",
    "event_stations = station_df[station_df['STATION_NAME'].isin(selected_stations)]"
   ]
  },
  {
   "cell_type": "code",
   "execution_count": null,
   "metadata": {
    "executionInfo": {
     "elapsed": 7,
     "status": "ok",
     "timestamp": 1731973837937,
     "user": {
      "displayName": "Zichun Chong (Chris)",
      "userId": "05603501305871270655"
     },
     "user_tz": 300
    },
    "id": "1R2c3f3yUlGp"
   },
   "outputs": [],
   "source": [
    "import math\n",
    "\n",
    "import matplotlib.pyplot as plt\n",
    "\n",
    "import matplotlib.colors as mcolors\n",
    "from matplotlib.patches import Rectangle\n",
    "\n",
    "\n",
    "def plot_colortable(colors, *, ncols=4, sort_colors=True):\n",
    "\n",
    "    cell_width = 212\n",
    "    cell_height = 22\n",
    "    swatch_width = 48\n",
    "    margin = 12\n",
    "\n",
    "    # Sort colors by hue, saturation, value and name.\n",
    "    if sort_colors is True:\n",
    "        names = sorted(\n",
    "            colors, key=lambda c: tuple(mcolors.rgb_to_hsv(mcolors.to_rgb(c))))\n",
    "    else:\n",
    "        names = list(colors)\n",
    "\n",
    "    n = len(names)\n",
    "    nrows = math.ceil(n / ncols)\n",
    "\n",
    "    width = cell_width * ncols + 2 * margin\n",
    "    height = cell_height * nrows + 2 * margin\n",
    "    dpi = 72\n",
    "\n",
    "    fig, ax = plt.subplots(figsize=(width / dpi, height / dpi), dpi=dpi)\n",
    "    fig.subplots_adjust(margin/width, margin/height,\n",
    "                        (width-margin)/width, (height-margin)/height)\n",
    "    ax.set_xlim(0, cell_width * ncols)\n",
    "    ax.set_ylim(cell_height * (nrows-0.5), -cell_height/2.)\n",
    "    ax.yaxis.set_visible(False)\n",
    "    ax.xaxis.set_visible(False)\n",
    "    ax.set_axis_off()\n",
    "\n",
    "    for i, name in enumerate(names):\n",
    "        row = i % nrows\n",
    "        col = i // nrows\n",
    "        y = row * cell_height\n",
    "\n",
    "        swatch_start_x = cell_width * col\n",
    "        text_pos_x = cell_width * col + swatch_width + 7\n",
    "\n",
    "        ax.text(text_pos_x, y, name, fontsize=14,\n",
    "                horizontalalignment='left',\n",
    "                verticalalignment='center')\n",
    "\n",
    "        ax.add_patch(\n",
    "            Rectangle(xy=(swatch_start_x, y-9), width=swatch_width,\n",
    "                      height=18, facecolor=colors[name], edgecolor='0.7')\n",
    "        )\n",
    "\n",
    "    return fig\n",
    "\n",
    "# plot_colortable(mcolors.CSS4_COLORS)\n",
    "# plt.show()"
   ]
  },
  {
   "cell_type": "code",
   "execution_count": null,
   "metadata": {
    "colab": {
     "base_uri": "https://localhost:8080/",
     "height": 1000,
     "output_embedded_package_id": "1FygACSk7YFbwFrIUZeepvMKZDgMV5oo_"
    },
    "executionInfo": {
     "elapsed": 9277,
     "status": "ok",
     "timestamp": 1731973847207,
     "user": {
      "displayName": "Zichun Chong (Chris)",
      "userId": "05603501305871270655"
     },
     "user_tz": 300
    },
    "id": "F6aJn0lkKQzB",
    "outputId": "8d80caa3-e5c6-45a6-c787-69abcfb9b540"
   },
   "outputs": [],
   "source": [
    "# Create a GeoDataFrame for events and stations\n",
    "event_trip_gdf = gpd.GeoDataFrame(\n",
    "    alarm_event_trip,\n",
    "    geometry=gpd.points_from_xy(alarm_event_trip['Longitude'], alarm_event_trip['Latitude'])\n",
    ")\n",
    "station_gdf = gpd.GeoDataFrame(\n",
    "    event_stations,\n",
    "    geometry=gpd.points_from_xy(event_stations['LONGITUDE'], event_stations['LATITUDE'])\n",
    ")\n",
    "unit_history_LD16_gdf = gpd.GeoDataFrame(\n",
    "    unit_history_LD16,\n",
    "    geometry=gpd.points_from_xy(unit_history_LD16['longitude'], unit_history_LD16['latitude'])\n",
    ")\n",
    "unit_history_P16_gdf = gpd.GeoDataFrame(\n",
    "    unit_history_P16,\n",
    "    geometry=gpd.points_from_xy(unit_history_P16['longitude'], unit_history_P16['latitude'])\n",
    ")\n",
    "unit_history_P26_gdf = gpd.GeoDataFrame(\n",
    "    unit_history_P26,\n",
    "    geometry=gpd.points_from_xy(unit_history_P26['longitude'], unit_history_P26['latitude'])\n",
    ")\n",
    "unit_history_R20_gdf = gpd.GeoDataFrame(\n",
    "    unit_history_R20,\n",
    "    geometry=gpd.points_from_xy(unit_history_R20['longitude'], unit_history_R20['latitude'])\n",
    ")\n",
    "unit_history_TK26_gdf = gpd.GeoDataFrame(\n",
    "    unit_history_TK26,\n",
    "    geometry=gpd.points_from_xy(unit_history_TK26['longitude'], unit_history_TK26['latitude'])\n",
    ")\n",
    "unit_history_DC3_gdf = gpd.GeoDataFrame(\n",
    "    unit_history_DC3,\n",
    "    geometry=gpd.points_from_xy(unit_history_DC3['longitude'], unit_history_DC3['latitude'])\n",
    ")\n",
    "\n",
    "# Set the coordinate reference system\n",
    "station_gdf.crs = \"EPSG:4326\"\n",
    "event_trip_gdf.crs = \"EPSG:4326\"\n",
    "unit_history_LD16_gdf.crs = \"EPSG:4326\"\n",
    "unit_history_P16_gdf.crs = \"EPSG:4326\"\n",
    "unit_history_P26_gdf.crs = \"EPSG:4326\"\n",
    "unit_history_R20_gdf.crs = \"EPSG:4326\"\n",
    "unit_history_TK26_gdf.crs = \"EPSG:4326\"\n",
    "unit_history_DC3_gdf.crs = \"EPSG:4326\"\n",
    "\n",
    "# Create a plot of the neighbourhoods\n",
    "fig, ax = plt.subplots(figsize=(10, 10))\n",
    "neighbourhood_gdf.plot(ax=ax, color='lightblue', edgecolor='black')\n",
    "\n",
    "# Plot the events and stations on top of the neighbourhoods\n",
    "event_trip_gdf.plot(ax=ax, markersize=25, color='red', label='Events')\n",
    "station_gdf.plot(ax=ax, markersize=15, color='blue', label='Stations')\n",
    "unit_history_LD16_gdf.plot(ax=ax, markersize=10, color='orange', label='Unit LD16')\n",
    "unit_history_P16_gdf.plot(ax=ax, markersize=10, color='indigo', label='Unit P16')\n",
    "unit_history_P26_gdf.plot(ax=ax, markersize=10, color='gold', label='Unit P26')\n",
    "unit_history_R20_gdf.plot(ax=ax, markersize=10, color='cyan', label='Unit R20')\n",
    "unit_history_TK26_gdf.plot(ax=ax, markersize=10, color='mediumpurple', label='Unit TK26')\n",
    "unit_history_DC3_gdf.plot(ax=ax, markersize=10, color='peachpuff', label='Unit DC3')\n",
    "\n",
    "# Add a basemap (optional)\n",
    "ctx.add_basemap(ax, crs=neighbourhood_gdf.crs, zoom=11)\n",
    "\n",
    "# Customize plot labels and title\n",
    "ax.set_title('Responding Units to an Alarm Event')\n",
    "ax.legend()\n",
    "\n",
    "# Display the plot\n",
    "plt.show()"
   ]
  },
  {
   "cell_type": "code",
   "execution_count": null,
   "metadata": {
    "colab": {
     "base_uri": "https://localhost:8080/",
     "height": 206
    },
    "executionInfo": {
     "elapsed": 8,
     "status": "ok",
     "timestamp": 1731973847208,
     "user": {
      "displayName": "Zichun Chong (Chris)",
      "userId": "05603501305871270655"
     },
     "user_tz": 300
    },
    "id": "JVN5NCicm0jG",
    "outputId": "48c0748d-f62e-4da4-81be-d9599a6900c7"
   },
   "outputs": [],
   "source": [
    "unit_history_TK26_gdf"
   ]
  }
 ],
 "metadata": {
  "colab": {
   "provenance": []
  },
  "kernelspec": {
   "display_name": "venv",
   "language": "python",
   "name": "python3"
  },
  "language_info": {
   "codemirror_mode": {
    "name": "ipython",
    "version": 3
   },
   "file_extension": ".py",
   "mimetype": "text/x-python",
   "name": "python",
   "nbconvert_exporter": "python",
   "pygments_lexer": "ipython3",
   "version": "3.10.12"
  }
 },
 "nbformat": 4,
 "nbformat_minor": 0
}
